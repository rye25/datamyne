{
 "cells": [
  {
   "cell_type": "code",
   "execution_count": 53,
   "metadata": {},
   "outputs": [],
   "source": [
    "import os\n",
    "import time\n",
    "from selenium import webdriver\n",
    "from webdriver_manager.chrome import ChromeDriverManager\n",
    "from selenium.webdriver.common.by import By\n",
    "from selenium.webdriver.common.keys import Keys\n",
    "from selenium.webdriver.common.action_chains import ActionChains\n",
    "from selenium.webdriver.support.ui import WebDriverWait\n",
    "from selenium.webdriver.support import expected_conditions as EC\n",
    "from selenium.webdriver.support.ui import Select\n",
    "from bs4 import BeautifulSoup\n",
    "import numpy as np\n",
    "import glob\n",
    "from datetime import datetime\n",
    "import xlrd"
   ]
  },
  {
   "cell_type": "code",
   "execution_count": 54,
   "metadata": {},
   "outputs": [],
   "source": [
    "# TODO: Set countryXpath and dataTypeXpath and set the beginning of the file name\n",
    "\n",
    "# Ecuador\n",
    "country_xpath = '//*[@id=\"otherCountries\"]/div[1]/div[1]/div/div/ul/li[13]/a'\n",
    "\n",
    "# Export Declarations\n",
    "data_xpath = '//*[@id=\"otherCountries\"]/div[1]/div[2]/div/div/ul/li[3]/a'\n",
    "\n",
    "# Beginning of File Name\n",
    "file_beg = \"EcuadorExports_\""
   ]
  },
  {
   "cell_type": "code",
   "execution_count": 55,
   "metadata": {},
   "outputs": [],
   "source": [
    "def create_chrome_driver(download_path):\n",
    "    # set executable path\n",
    "    chrome_driver = \"/usr/local/bin/chromedriver\"\n",
    "    os.environ[\"webdriver.chrome.driver\"] = chrome_driver\n",
    "    \n",
    "    # set default download directory\n",
    "    options = webdriver.ChromeOptions()\n",
    "    prefs = {\"download.default_directory\" : download_path,\n",
    "             \"profile.default_content_setting_values.automatic_downloads\": 1\n",
    "            }\n",
    "    options.add_experimental_option(\"prefs\",prefs)\n",
    "\n",
    "    return webdriver.Chrome(executable_path=ChromeDriverManager().install(), options=options)"
   ]
  },
  {
   "cell_type": "code",
   "execution_count": 56,
   "metadata": {},
   "outputs": [],
   "source": [
    "def datamyne_login(driver):\n",
    "    driver.get(\"https://threezero.datamyne.com/frontend/loadSearchForm.thyme?appId=1731&ticket=dcc1e1f:1743f37103e:-63e3\")\n",
    "    input_user = driver.find_element_by_name(\"user\")\n",
    "    input_user.send_keys(\"Michigan\")\n",
    "    input_pw = driver.find_element_by_name(\"password\")\n",
    "    input_pw.send_keys(\"Primavera1\")\n",
    "    input_pw.send_keys(Keys.RETURN)"
   ]
  },
  {
   "cell_type": "code",
   "execution_count": 57,
   "metadata": {},
   "outputs": [],
   "source": [
    "def query(driver):\n",
    "    country_dropdown = driver.find_element(By.CSS_SELECTOR, '#otherCountries > div:nth-child(1) > div:nth-child(1) > div > button')\n",
    "    country_dropdown.click()\n",
    "    \n",
    "    # Select Country\n",
    "    country = driver.find_element(By.XPATH, country_xpath)\n",
    "    country.click()\n",
    "    \n",
    "    data_dropdown = driver.find_element(By.CSS_SELECTOR, 'button[data-id=\"select-data\"]')\n",
    "    data_dropdown.click()\n",
    "    \n",
    "    # Select Data Type\n",
    "    data = driver.find_element(By.XPATH, data_xpath)\n",
    "    data.click()\n",
    "    \n",
    "    query_button = driver.find_element(By.ID, 'queries_button')\n",
    "    query_button.click()\n",
    "    \n",
    "    driver.implicitly_wait(30)"
   ]
  },
  {
   "cell_type": "code",
   "execution_count": 58,
   "metadata": {},
   "outputs": [],
   "source": [
    "def select_date(driver, start, end):\n",
    "    wait = WebDriverWait(driver, 10)\n",
    "    input_date = wait.until(EC.element_to_be_clickable((By.ID, 'searchRanges')))\n",
    "    input_date.clear()\n",
    "    date_range = start + \" - \" + end\n",
    "    input_date.send_keys(date_range)\n",
    "\n",
    "    apply = driver.find_element(By.CLASS_NAME, 'applyBtn')\n",
    "    apply.click()"
   ]
  },
  {
   "cell_type": "code",
   "execution_count": 59,
   "metadata": {},
   "outputs": [],
   "source": [
    "def download_data(driver, download_path, start, start_date, end_date):\n",
    "    wait = WebDriverWait(driver, 10)\n",
    "    element = wait.until(EC.invisibility_of_element_located((By.CLASS_NAME, 'dm-modal-backdrop')))\n",
    "    \n",
    "    # Click Random Button\n",
    "    rand = driver.find_element(By.CLASS_NAME, 'rowCheckbox')\n",
    "    rand.click()        \n",
    "    rand.click()\n",
    "        \n",
    "    # Click Download button\n",
    "    wait2 = WebDriverWait(driver, 10)\n",
    "    excel = wait2.until(EC.element_to_be_clickable((By.CSS_SELECTOR, '#btnExcel > button:nth-child(1)')))\n",
    "    excel.click()\n",
    "        \n",
    "    # Set File Name\n",
    "    file_name = driver.find_element(By.ID, 'excelNameSave')\n",
    "    file_name.clear()\n",
    "    \n",
    "    name = file_beg + start_date + \"_\" + end_date + \"_\" + str(start) + \"_\" + str(start + 4999)\n",
    "    file_name.send_keys(name)\n",
    "        \n",
    "    # Specify Range\n",
    "    export_range = driver.find_element(By.ID, 'radioToExportRange')\n",
    "    export_range.click()\n",
    "    start_range = driver.find_element(By.ID, 'dd_startRangeE')\n",
    "    start_range.send_keys(str(start))\n",
    "    end_range = driver.find_element(By.ID, 'dd_endRangeE')\n",
    "    end_range.send_keys(str(start + 4999))\n",
    "    export = driver.find_element(By.CLASS_NAME, 'excelLoad')\n",
    "    export.click()\n",
    "        \n",
    "    return start + 5000"
   ]
  },
  {
   "cell_type": "code",
   "execution_count": 60,
   "metadata": {},
   "outputs": [],
   "source": [
    "def get_last_date(download_path):\n",
    "    # get most recently downloaded file\n",
    "    file_pattern = \"*.xlsx\"\n",
    "    list_of_files = glob.iglob(download_path + file_pattern)\n",
    "    latest_file = max(list_of_files, key=os.path.getctime)\n",
    "    \n",
    "    # get last date\n",
    "    wb = xlrd.open_workbook(latest_file) \n",
    "    sheet = wb.sheet_by_index(0) \n",
    "    \n",
    "    # format date\n",
    "    excel_date = int(sheet.cell_value(5000, 0))\n",
    "    python_date = datetime(*xlrd.xldate_as_tuple(excel_date, 0))\n",
    "    return python_date"
   ]
  },
  {
   "cell_type": "code",
   "execution_count": 61,
   "metadata": {},
   "outputs": [],
   "source": [
    "def download_hundred_thousand(driver, download_path, start_date):\n",
    "    end_date = get_last_date(download_path).strftime('%m/%d/%Y')\n",
    "    start_name = start_date.replace(\"/\", \"_\")\n",
    "    end_name = end_date.replace(\"/\", \"_\")\n",
    "    select_date(driver, start_date, end_date)\n",
    "    \n",
    "    start = 1\n",
    "    while (start < 100000):\n",
    "        try:\n",
    "            start = download_data(driver, download_path, start, start_name, end_name)\n",
    "            time.sleep(5)\n",
    "        except:\n",
    "            time.sleep(10)\n",
    "            pass\n",
    "    return end_date"
   ]
  },
  {
   "cell_type": "code",
   "execution_count": 65,
   "metadata": {},
   "outputs": [],
   "source": [
    "def first_time(download_path, start_date, end_date):\n",
    "    driver = create_chrome_driver(download_path)\n",
    "    datamyne_login(driver)\n",
    "    query(driver)\n",
    "    \n",
    "    time.sleep(7)\n",
    "    \n",
    "    start_name = start_date.replace(\"/\", \"_\")\n",
    "    end_name = end_date.replace(\"/\", \"_\")\n",
    "    select_date(driver, start_date, end_date)\n",
    "    \n",
    "    start = 1\n",
    "    while (start < 100000):\n",
    "        try:\n",
    "            start = download_data(driver, download_path, start, start_name, end_name)\n",
    "            time.sleep(5)\n",
    "        except:\n",
    "            time.sleep(10)\n",
    "            pass\n",
    "        \n",
    "    time.sleep(60)\n",
    "    driver.close()"
   ]
  },
  {
   "cell_type": "code",
   "execution_count": 67,
   "metadata": {},
   "outputs": [
    {
     "name": "stderr",
     "output_type": "stream",
     "text": [
      "[WDM] - Current google-chrome version is 86.0.4240\n",
      "[WDM] - Get LATEST driver version for 86.0.4240\n",
      "[WDM] - Driver [/Users/rachelye/.wdm/drivers/chromedriver/mac64/86.0.4240.22/chromedriver] found in cache\n"
     ]
    },
    {
     "name": "stdout",
     "output_type": "stream",
     "text": [
      " \n"
     ]
    }
   ],
   "source": [
    "# TODO: Before downloading data for each year, \n",
    "# 1. Set download path\n",
    "# 2. Set starting and ending dates (should just be 01/01/xx and 12/31/xx)\n",
    "\n",
    "download_path = \"/Users/rachelye/Desktop/Ecuador Exports 2018/\"\n",
    "start_date = \"01/01/2018\"\n",
    "end_date = \"12/31/2018\"\n",
    "first_time(download_path, start_date, end_date)"
   ]
  },
  {
   "cell_type": "code",
   "execution_count": 74,
   "metadata": {},
   "outputs": [],
   "source": [
    "def run(download_path, n, start_date):\n",
    "    driver = create_chrome_driver(download_path)\n",
    "    datamyne_login(driver)\n",
    "    query(driver)\n",
    "    \n",
    "    time.sleep(15)\n",
    "    \n",
    "    for i in range(n):\n",
    "        download_hundred_thousand(driver, download_path, start_date)\n",
    "        time.sleep(30)\n",
    "    \n",
    "    time.sleep(60)\n",
    "    driver.close()"
   ]
  },
  {
   "cell_type": "code",
   "execution_count": 75,
   "metadata": {},
   "outputs": [
    {
     "name": "stderr",
     "output_type": "stream",
     "text": [
      "[WDM] - Current google-chrome version is 86.0.4240\n",
      "[WDM] - Get LATEST driver version for 86.0.4240\n",
      "[WDM] - Driver [/Users/rachelye/.wdm/drivers/chromedriver/mac64/86.0.4240.22/chromedriver] found in cache\n"
     ]
    },
    {
     "name": "stdout",
     "output_type": "stream",
     "text": [
      " \n"
     ]
    },
    {
     "ename": "KeyboardInterrupt",
     "evalue": "",
     "output_type": "error",
     "traceback": [
      "\u001b[0;31m---------------------------------------------------------------------------\u001b[0m",
      "\u001b[0;31mNoSuchWindowException\u001b[0m                     Traceback (most recent call last)",
      "\u001b[0;32m<ipython-input-61-3169dde7ebac>\u001b[0m in \u001b[0;36mdownload_hundred_thousand\u001b[0;34m(driver, download_path, start_date)\u001b[0m\n\u001b[1;32m      9\u001b[0m         \u001b[0;32mtry\u001b[0m\u001b[0;34m:\u001b[0m\u001b[0;34m\u001b[0m\u001b[0;34m\u001b[0m\u001b[0m\n\u001b[0;32m---> 10\u001b[0;31m             \u001b[0mstart\u001b[0m \u001b[0;34m=\u001b[0m \u001b[0mdownload_data\u001b[0m\u001b[0;34m(\u001b[0m\u001b[0mdriver\u001b[0m\u001b[0;34m,\u001b[0m \u001b[0mdownload_path\u001b[0m\u001b[0;34m,\u001b[0m \u001b[0mstart\u001b[0m\u001b[0;34m,\u001b[0m \u001b[0mstart_name\u001b[0m\u001b[0;34m,\u001b[0m \u001b[0mend_name\u001b[0m\u001b[0;34m)\u001b[0m\u001b[0;34m\u001b[0m\u001b[0;34m\u001b[0m\u001b[0m\n\u001b[0m\u001b[1;32m     11\u001b[0m             \u001b[0mtime\u001b[0m\u001b[0;34m.\u001b[0m\u001b[0msleep\u001b[0m\u001b[0;34m(\u001b[0m\u001b[0;36m5\u001b[0m\u001b[0;34m)\u001b[0m\u001b[0;34m\u001b[0m\u001b[0;34m\u001b[0m\u001b[0m\n",
      "\u001b[0;32m<ipython-input-59-69d20eb5a13e>\u001b[0m in \u001b[0;36mdownload_data\u001b[0;34m(driver, download_path, start, start_date, end_date)\u001b[0m\n\u001b[1;32m      2\u001b[0m     \u001b[0mwait\u001b[0m \u001b[0;34m=\u001b[0m \u001b[0mWebDriverWait\u001b[0m\u001b[0;34m(\u001b[0m\u001b[0mdriver\u001b[0m\u001b[0;34m,\u001b[0m \u001b[0;36m10\u001b[0m\u001b[0;34m)\u001b[0m\u001b[0;34m\u001b[0m\u001b[0;34m\u001b[0m\u001b[0m\n\u001b[0;32m----> 3\u001b[0;31m     \u001b[0melement\u001b[0m \u001b[0;34m=\u001b[0m \u001b[0mwait\u001b[0m\u001b[0;34m.\u001b[0m\u001b[0muntil\u001b[0m\u001b[0;34m(\u001b[0m\u001b[0mEC\u001b[0m\u001b[0;34m.\u001b[0m\u001b[0minvisibility_of_element_located\u001b[0m\u001b[0;34m(\u001b[0m\u001b[0;34m(\u001b[0m\u001b[0mBy\u001b[0m\u001b[0;34m.\u001b[0m\u001b[0mCLASS_NAME\u001b[0m\u001b[0;34m,\u001b[0m \u001b[0;34m'dm-modal-backdrop'\u001b[0m\u001b[0;34m)\u001b[0m\u001b[0;34m)\u001b[0m\u001b[0;34m)\u001b[0m\u001b[0;34m\u001b[0m\u001b[0;34m\u001b[0m\u001b[0m\n\u001b[0m\u001b[1;32m      4\u001b[0m \u001b[0;34m\u001b[0m\u001b[0m\n",
      "\u001b[0;32m~/env/lib/python3.8/site-packages/selenium/webdriver/support/wait.py\u001b[0m in \u001b[0;36muntil\u001b[0;34m(self, method, message)\u001b[0m\n\u001b[1;32m     70\u001b[0m             \u001b[0;32mtry\u001b[0m\u001b[0;34m:\u001b[0m\u001b[0;34m\u001b[0m\u001b[0;34m\u001b[0m\u001b[0m\n\u001b[0;32m---> 71\u001b[0;31m                 \u001b[0mvalue\u001b[0m \u001b[0;34m=\u001b[0m \u001b[0mmethod\u001b[0m\u001b[0;34m(\u001b[0m\u001b[0mself\u001b[0m\u001b[0;34m.\u001b[0m\u001b[0m_driver\u001b[0m\u001b[0;34m)\u001b[0m\u001b[0;34m\u001b[0m\u001b[0;34m\u001b[0m\u001b[0m\n\u001b[0m\u001b[1;32m     72\u001b[0m                 \u001b[0;32mif\u001b[0m \u001b[0mvalue\u001b[0m\u001b[0;34m:\u001b[0m\u001b[0;34m\u001b[0m\u001b[0;34m\u001b[0m\u001b[0m\n",
      "\u001b[0;32m~/env/lib/python3.8/site-packages/selenium/webdriver/support/expected_conditions.py\u001b[0m in \u001b[0;36m__call__\u001b[0;34m(self, driver)\u001b[0m\n\u001b[1;32m    268\u001b[0m             \u001b[0;32mif\u001b[0m \u001b[0;32mnot\u001b[0m \u001b[0misinstance\u001b[0m\u001b[0;34m(\u001b[0m\u001b[0mtarget\u001b[0m\u001b[0;34m,\u001b[0m \u001b[0mWebElement\u001b[0m\u001b[0;34m)\u001b[0m\u001b[0;34m:\u001b[0m\u001b[0;34m\u001b[0m\u001b[0;34m\u001b[0m\u001b[0m\n\u001b[0;32m--> 269\u001b[0;31m                 \u001b[0mtarget\u001b[0m \u001b[0;34m=\u001b[0m \u001b[0m_find_element\u001b[0m\u001b[0;34m(\u001b[0m\u001b[0mdriver\u001b[0m\u001b[0;34m,\u001b[0m \u001b[0mtarget\u001b[0m\u001b[0;34m)\u001b[0m\u001b[0;34m\u001b[0m\u001b[0;34m\u001b[0m\u001b[0m\n\u001b[0m\u001b[1;32m    270\u001b[0m             \u001b[0;32mreturn\u001b[0m \u001b[0m_element_if_visible\u001b[0m\u001b[0;34m(\u001b[0m\u001b[0mtarget\u001b[0m\u001b[0;34m,\u001b[0m \u001b[0;32mFalse\u001b[0m\u001b[0;34m)\u001b[0m\u001b[0;34m\u001b[0m\u001b[0;34m\u001b[0m\u001b[0m\n",
      "\u001b[0;32m~/env/lib/python3.8/site-packages/selenium/webdriver/support/expected_conditions.py\u001b[0m in \u001b[0;36m_find_element\u001b[0;34m(driver, by)\u001b[0m\n\u001b[1;32m    414\u001b[0m     \u001b[0;32mexcept\u001b[0m \u001b[0mWebDriverException\u001b[0m \u001b[0;32mas\u001b[0m \u001b[0me\u001b[0m\u001b[0;34m:\u001b[0m\u001b[0;34m\u001b[0m\u001b[0;34m\u001b[0m\u001b[0m\n\u001b[0;32m--> 415\u001b[0;31m         \u001b[0;32mraise\u001b[0m \u001b[0me\u001b[0m\u001b[0;34m\u001b[0m\u001b[0;34m\u001b[0m\u001b[0m\n\u001b[0m\u001b[1;32m    416\u001b[0m \u001b[0;34m\u001b[0m\u001b[0m\n",
      "\u001b[0;32m~/env/lib/python3.8/site-packages/selenium/webdriver/support/expected_conditions.py\u001b[0m in \u001b[0;36m_find_element\u001b[0;34m(driver, by)\u001b[0m\n\u001b[1;32m    410\u001b[0m     \u001b[0;32mtry\u001b[0m\u001b[0;34m:\u001b[0m\u001b[0;34m\u001b[0m\u001b[0;34m\u001b[0m\u001b[0m\n\u001b[0;32m--> 411\u001b[0;31m         \u001b[0;32mreturn\u001b[0m \u001b[0mdriver\u001b[0m\u001b[0;34m.\u001b[0m\u001b[0mfind_element\u001b[0m\u001b[0;34m(\u001b[0m\u001b[0;34m*\u001b[0m\u001b[0mby\u001b[0m\u001b[0;34m)\u001b[0m\u001b[0;34m\u001b[0m\u001b[0;34m\u001b[0m\u001b[0m\n\u001b[0m\u001b[1;32m    412\u001b[0m     \u001b[0;32mexcept\u001b[0m \u001b[0mNoSuchElementException\u001b[0m \u001b[0;32mas\u001b[0m \u001b[0me\u001b[0m\u001b[0;34m:\u001b[0m\u001b[0;34m\u001b[0m\u001b[0;34m\u001b[0m\u001b[0m\n",
      "\u001b[0;32m~/env/lib/python3.8/site-packages/selenium/webdriver/remote/webdriver.py\u001b[0m in \u001b[0;36mfind_element\u001b[0;34m(self, by, value)\u001b[0m\n\u001b[1;32m    975\u001b[0m                 \u001b[0mvalue\u001b[0m \u001b[0;34m=\u001b[0m \u001b[0;34m'[name=\"%s\"]'\u001b[0m \u001b[0;34m%\u001b[0m \u001b[0mvalue\u001b[0m\u001b[0;34m\u001b[0m\u001b[0;34m\u001b[0m\u001b[0m\n\u001b[0;32m--> 976\u001b[0;31m         return self.execute(Command.FIND_ELEMENT, {\n\u001b[0m\u001b[1;32m    977\u001b[0m             \u001b[0;34m'using'\u001b[0m\u001b[0;34m:\u001b[0m \u001b[0mby\u001b[0m\u001b[0;34m,\u001b[0m\u001b[0;34m\u001b[0m\u001b[0;34m\u001b[0m\u001b[0m\n",
      "\u001b[0;32m~/env/lib/python3.8/site-packages/selenium/webdriver/remote/webdriver.py\u001b[0m in \u001b[0;36mexecute\u001b[0;34m(self, driver_command, params)\u001b[0m\n\u001b[1;32m    320\u001b[0m         \u001b[0;32mif\u001b[0m \u001b[0mresponse\u001b[0m\u001b[0;34m:\u001b[0m\u001b[0;34m\u001b[0m\u001b[0;34m\u001b[0m\u001b[0m\n\u001b[0;32m--> 321\u001b[0;31m             \u001b[0mself\u001b[0m\u001b[0;34m.\u001b[0m\u001b[0merror_handler\u001b[0m\u001b[0;34m.\u001b[0m\u001b[0mcheck_response\u001b[0m\u001b[0;34m(\u001b[0m\u001b[0mresponse\u001b[0m\u001b[0;34m)\u001b[0m\u001b[0;34m\u001b[0m\u001b[0;34m\u001b[0m\u001b[0m\n\u001b[0m\u001b[1;32m    322\u001b[0m             response['value'] = self._unwrap_value(\n",
      "\u001b[0;32m~/env/lib/python3.8/site-packages/selenium/webdriver/remote/errorhandler.py\u001b[0m in \u001b[0;36mcheck_response\u001b[0;34m(self, response)\u001b[0m\n\u001b[1;32m    241\u001b[0m             \u001b[0;32mraise\u001b[0m \u001b[0mexception_class\u001b[0m\u001b[0;34m(\u001b[0m\u001b[0mmessage\u001b[0m\u001b[0;34m,\u001b[0m \u001b[0mscreen\u001b[0m\u001b[0;34m,\u001b[0m \u001b[0mstacktrace\u001b[0m\u001b[0;34m,\u001b[0m \u001b[0malert_text\u001b[0m\u001b[0;34m)\u001b[0m\u001b[0;34m\u001b[0m\u001b[0;34m\u001b[0m\u001b[0m\n\u001b[0;32m--> 242\u001b[0;31m         \u001b[0;32mraise\u001b[0m \u001b[0mexception_class\u001b[0m\u001b[0;34m(\u001b[0m\u001b[0mmessage\u001b[0m\u001b[0;34m,\u001b[0m \u001b[0mscreen\u001b[0m\u001b[0;34m,\u001b[0m \u001b[0mstacktrace\u001b[0m\u001b[0;34m)\u001b[0m\u001b[0;34m\u001b[0m\u001b[0;34m\u001b[0m\u001b[0m\n\u001b[0m\u001b[1;32m    243\u001b[0m \u001b[0;34m\u001b[0m\u001b[0m\n",
      "\u001b[0;31mNoSuchWindowException\u001b[0m: Message: no such window: window was already closed\n  (Session info: chrome=86.0.4240.111)\n",
      "\nDuring handling of the above exception, another exception occurred:\n",
      "\u001b[0;31mKeyboardInterrupt\u001b[0m                         Traceback (most recent call last)",
      "\u001b[0;32m<ipython-input-75-845aed5c1e0f>\u001b[0m in \u001b[0;36m<module>\u001b[0;34m\u001b[0m\n\u001b[1;32m      2\u001b[0m \u001b[0;31m# run only this cell until all files have been downloaded\u001b[0m\u001b[0;34m\u001b[0m\u001b[0;34m\u001b[0m\u001b[0;34m\u001b[0m\u001b[0m\n\u001b[1;32m      3\u001b[0m \u001b[0;34m\u001b[0m\u001b[0m\n\u001b[0;32m----> 4\u001b[0;31m \u001b[0mrun\u001b[0m\u001b[0;34m(\u001b[0m\u001b[0mdownload_path\u001b[0m\u001b[0;34m,\u001b[0m \u001b[0;36m10\u001b[0m\u001b[0;34m,\u001b[0m \u001b[0mstart_date\u001b[0m\u001b[0;34m)\u001b[0m\u001b[0;34m\u001b[0m\u001b[0;34m\u001b[0m\u001b[0m\n\u001b[0m",
      "\u001b[0;32m<ipython-input-74-fa2313c7ad8d>\u001b[0m in \u001b[0;36mrun\u001b[0;34m(download_path, n, start_date)\u001b[0m\n\u001b[1;32m      7\u001b[0m \u001b[0;34m\u001b[0m\u001b[0m\n\u001b[1;32m      8\u001b[0m     \u001b[0;32mfor\u001b[0m \u001b[0mi\u001b[0m \u001b[0;32min\u001b[0m \u001b[0mrange\u001b[0m\u001b[0;34m(\u001b[0m\u001b[0mn\u001b[0m\u001b[0;34m)\u001b[0m\u001b[0;34m:\u001b[0m\u001b[0;34m\u001b[0m\u001b[0;34m\u001b[0m\u001b[0m\n\u001b[0;32m----> 9\u001b[0;31m         \u001b[0mdownload_hundred_thousand\u001b[0m\u001b[0;34m(\u001b[0m\u001b[0mdriver\u001b[0m\u001b[0;34m,\u001b[0m \u001b[0mdownload_path\u001b[0m\u001b[0;34m,\u001b[0m \u001b[0mstart_date\u001b[0m\u001b[0;34m)\u001b[0m\u001b[0;34m\u001b[0m\u001b[0;34m\u001b[0m\u001b[0m\n\u001b[0m\u001b[1;32m     10\u001b[0m         \u001b[0mtime\u001b[0m\u001b[0;34m.\u001b[0m\u001b[0msleep\u001b[0m\u001b[0;34m(\u001b[0m\u001b[0;36m30\u001b[0m\u001b[0;34m)\u001b[0m\u001b[0;34m\u001b[0m\u001b[0;34m\u001b[0m\u001b[0m\n\u001b[1;32m     11\u001b[0m \u001b[0;34m\u001b[0m\u001b[0m\n",
      "\u001b[0;32m<ipython-input-61-3169dde7ebac>\u001b[0m in \u001b[0;36mdownload_hundred_thousand\u001b[0;34m(driver, download_path, start_date)\u001b[0m\n\u001b[1;32m     11\u001b[0m             \u001b[0mtime\u001b[0m\u001b[0;34m.\u001b[0m\u001b[0msleep\u001b[0m\u001b[0;34m(\u001b[0m\u001b[0;36m5\u001b[0m\u001b[0;34m)\u001b[0m\u001b[0;34m\u001b[0m\u001b[0;34m\u001b[0m\u001b[0m\n\u001b[1;32m     12\u001b[0m         \u001b[0;32mexcept\u001b[0m\u001b[0;34m:\u001b[0m\u001b[0;34m\u001b[0m\u001b[0;34m\u001b[0m\u001b[0m\n\u001b[0;32m---> 13\u001b[0;31m             \u001b[0mtime\u001b[0m\u001b[0;34m.\u001b[0m\u001b[0msleep\u001b[0m\u001b[0;34m(\u001b[0m\u001b[0;36m10\u001b[0m\u001b[0;34m)\u001b[0m\u001b[0;34m\u001b[0m\u001b[0;34m\u001b[0m\u001b[0m\n\u001b[0m\u001b[1;32m     14\u001b[0m             \u001b[0;32mpass\u001b[0m\u001b[0;34m\u001b[0m\u001b[0;34m\u001b[0m\u001b[0m\n\u001b[1;32m     15\u001b[0m     \u001b[0;32mreturn\u001b[0m \u001b[0mend_date\u001b[0m\u001b[0;34m\u001b[0m\u001b[0;34m\u001b[0m\u001b[0m\n",
      "\u001b[0;31mKeyboardInterrupt\u001b[0m: "
     ]
    }
   ],
   "source": [
    "# TODO: Run all the cells above this one, and then \n",
    "# run only this cell until all files have been downloaded\n",
    "\n",
    "run(download_path, 10, start_date)"
   ]
  },
  {
   "cell_type": "code",
   "execution_count": 42,
   "metadata": {},
   "outputs": [],
   "source": [
    "def find_missing(download_path):\n",
    "    file_pattern = \"*.xlsx\"\n",
    "    files = glob.iglob(download_path + file_pattern)\n",
    "\n",
    "    dates = {}\n",
    "    for f in files:\n",
    "        file_name = f.split(\"_\")[1:]\n",
    "        start_date = file_name[0] + \"/\" + file_name[1] + \"/\" + file_name[2]\n",
    "        end_date = file_name[3] + \"/\" + file_name[4] + \"/\" + file_name[5]\n",
    "        start_row = int(file_name[6])\n",
    "\n",
    "        if end_date in dates:\n",
    "            dates[end_date].add(start_row)\n",
    "        else:\n",
    "            dates[end_date] = set()\n",
    "            dates[end_date].add(start_row)\n",
    "    \n",
    "    # values that should be present\n",
    "    s = set()\n",
    "    for i in range(20):\n",
    "        s.add(i * 5000 + 1)\n",
    "    \n",
    "    missing = {}\n",
    "    for d in dates:\n",
    "        last = max(dates[d])\n",
    "        diff = set()\n",
    "        for d1 in s.difference(dates[d]):\n",
    "            if d1 < last:\n",
    "                diff.add(d1)\n",
    "        if (diff != set()):\n",
    "            missing[d] = diff\n",
    "           \n",
    "    return missing"
   ]
  },
  {
   "cell_type": "code",
   "execution_count": 43,
   "metadata": {},
   "outputs": [],
   "source": [
    "def replace_missing(download_path, start_date):\n",
    "    missing = find_missing(download_path)\n",
    "    print(missing)\n",
    "    if (missing == {}):\n",
    "        return\n",
    "    \n",
    "    driver = create_chrome_driver(download_path)\n",
    "    datamyne_login(driver)\n",
    "    query(driver)\n",
    "    \n",
    "    time.sleep(7)\n",
    "    \n",
    "    for m in missing:\n",
    "        start_name = start_date.replace(\"/\", \"_\")\n",
    "        end_name = m.replace(\"/\", \"_\")\n",
    "        select_date(driver, start_date, m)\n",
    "        for start in missing[m]:\n",
    "            s = start\n",
    "            while (s == start):\n",
    "                try:\n",
    "                    s = download_data(driver, download_path, start, start_name, end_name)\n",
    "                    time.sleep(5)\n",
    "                except:\n",
    "                    time.sleep(10)\n",
    "                    pass\n",
    "    time.sleep(60)\n",
    "    driver.close()"
   ]
  },
  {
   "cell_type": "code",
   "execution_count": 44,
   "metadata": {},
   "outputs": [
    {
     "name": "stderr",
     "output_type": "stream",
     "text": [
      "[WDM] - Current google-chrome version is 86.0.4240\n"
     ]
    },
    {
     "name": "stdout",
     "output_type": "stream",
     "text": [
      "{'12/31/2019': {75001}}\n",
      " \n"
     ]
    },
    {
     "name": "stderr",
     "output_type": "stream",
     "text": [
      "[WDM] - Get LATEST driver version for 86.0.4240\n",
      "[WDM] - Driver [/Users/rachelye/.wdm/drivers/chromedriver/mac64/86.0.4240.22/chromedriver] found in cache\n"
     ]
    }
   ],
   "source": [
    "# Run this cell to make sure you have correctly downloaded all the files\n",
    "replace_missing(download_path, start_date)"
   ]
  },
  {
   "cell_type": "code",
   "execution_count": 45,
   "metadata": {},
   "outputs": [
    {
     "name": "stdout",
     "output_type": "stream",
     "text": [
      "{}\n"
     ]
    }
   ],
   "source": [
    "# Run this cell just to make sure there is nothing missing\n",
    "replace_missing(download_path, start_date)"
   ]
  },
  {
   "cell_type": "code",
   "execution_count": null,
   "metadata": {},
   "outputs": [],
   "source": []
  }
 ],
 "metadata": {
  "finalized": {
   "timestamp": 1602567100157,
   "trusted": true
  },
  "kernelspec": {
   "display_name": "Python 3",
   "language": "python",
   "name": "python3"
  },
  "language_info": {
   "codemirror_mode": {
    "name": "ipython",
    "version": 3
   },
   "file_extension": ".py",
   "mimetype": "text/x-python",
   "name": "python",
   "nbconvert_exporter": "python",
   "pygments_lexer": "ipython3",
   "version": "3.8.3"
  }
 },
 "nbformat": 4,
 "nbformat_minor": 4
}
